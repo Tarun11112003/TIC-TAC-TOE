{
 "cells": [
  {
   "cell_type": "code",
   "execution_count": 87,
   "metadata": {},
   "outputs": [],
   "source": [
    "\n",
    "from IPython.display import clear_output\n",
    "# 7 8 9 \n",
    "# 4 5 6\n",
    "# 1 2 3\n",
    "def display_board(board):\n",
    "    clear_output()\n",
    "    print(board[7] +\"|\"+board[8] + \"|\"+board[9])\n",
    "    print(\"----\")\n",
    "    print(board[4] +\"|\"+board[5] + \"|\"+board[6])\n",
    "    print(\"----\")\n",
    "    print(board[1] +\"|\"+board[2] + \"|\"+board[3])"
   ]
  },
  {
   "cell_type": "code",
   "execution_count": 88,
   "metadata": {},
   "outputs": [],
   "source": [
    "# Taking in player input as X or O\n",
    "\n",
    "def player_input():\n",
    "    marker = \" \"\n",
    "\n",
    "    while marker != \"X\" or marker != \"O\":\n",
    "        marker = input(\"Player1, please select one of these X or O: \").upper()\n",
    "        if marker == \"X\":\n",
    "            return (\"X\",\"O\")\n",
    "        else :\n",
    "            return (\"O\",\"X\")\n",
    "            "
   ]
  },
  {
   "cell_type": "code",
   "execution_count": 89,
   "metadata": {},
   "outputs": [],
   "source": [
    "# Takes in the board list, the marker and the position\n",
    "# And then assigns it to the board\n",
    "def placing_of_marker(board,marker,position):\n",
    "    board[position] = marker"
   ]
  },
  {
   "cell_type": "code",
   "execution_count": 90,
   "metadata": {},
   "outputs": [],
   "source": [
    "# checking all win possibilites\n",
    "def win_condition(board,mark):\n",
    "    return((board[7]==board[8]==board[9]==mark) or (board[4]==board[5]==board[6]==mark) or (board[1]==board[2]==board[3]==mark) or (board[1]==board[4]==board[7]==mark) or (board[2]==board[5]==board[8]==mark) or (board[3]==board[6]==board[9]==mark) or (board[1]==board[5]==board[9]==mark) or (board[3]==board[5]==board[7]==mark))\n",
    "\n"
   ]
  },
  {
   "cell_type": "code",
   "execution_count": 91,
   "metadata": {},
   "outputs": [],
   "source": [
    "#to decide which player goes first\n",
    "import random\n",
    "\n",
    "from numpy import flip\n",
    "def first_choose():\n",
    "    flip = random.randint(0,1)\n",
    "    if flip == 0:\n",
    "        return \"player 1\"\n",
    "    else :\n",
    "        return \"player 2\"\n",
    "    "
   ]
  },
  {
   "cell_type": "code",
   "execution_count": 92,
   "metadata": {},
   "outputs": [],
   "source": [
    "# To check wheither there is space freely available on the board by boolean\n",
    "def space_check(board,position):\n",
    "    return board[position] == \" \"\n"
   ]
  },
  {
   "cell_type": "code",
   "execution_count": 93,
   "metadata": {},
   "outputs": [],
   "source": [
    "# To check the board is full and returns a boolean value\n",
    "# True means that the board is full\n",
    "def full_board_check(board):\n",
    "    for i in range(1,10):\n",
    "        if space_check(board,i):\n",
    "            return False\n",
    "    return True"
   ]
  },
  {
   "cell_type": "code",
   "execution_count": 94,
   "metadata": {},
   "outputs": [],
   "source": [
    "def player_selection(board):\n",
    "    position = 0\n",
    "    while position not in [1,2,3,4,5,6,7,8,9] or not space_check(board,position):\n",
    "        position = int(input(\"choose a position in (1-9): \"))\n",
    "        \n",
    "    return position\n",
    "\n"
   ]
  },
  {
   "cell_type": "code",
   "execution_count": 95,
   "metadata": {},
   "outputs": [],
   "source": [
    "def regame():\n",
    "    print(\"would you like to play a fresh game..? \")\n",
    "    selection = input(\"Yes or No\")\n",
    "    return selection == \"Yes\""
   ]
  },
  {
   "cell_type": "code",
   "execution_count": 96,
   "metadata": {},
   "outputs": [
    {
     "name": "stdout",
     "output_type": "stream",
     "text": [
      "X|O|X\n",
      "----\n",
      " |X| \n",
      "----\n",
      "X|O|O\n",
      "player 2 has won\n",
      "would you like to play a fresh game..? \n"
     ]
    }
   ],
   "source": [
    "from turtle import position\n",
    "\n",
    "print(\"LETS START TIC TAC TOE\")\n",
    "\n",
    "while True:\n",
    "    the_board = [\" \"]*10\n",
    "    player1_marker,player2_marker = player_input()\n",
    "    turn = first_choose()\n",
    "    print(turn + \" will go first\")\n",
    "\n",
    "    play_game = input(\"are you ready (Y or N): \")\n",
    "    if play_game== \"Y\" :\n",
    "        game_on = True\n",
    "    else:\n",
    "        game_on = False\n",
    "\n",
    "    while game_on:\n",
    "        if turn == \"player 1\":\n",
    "\n",
    "            display_board(the_board)\n",
    "\n",
    "            position = player_selection(the_board)\n",
    "            placing_of_marker(the_board,player1_marker,position)\n",
    "\n",
    "            if win_condition(the_board,player1_marker):\n",
    "                display_board(the_board)\n",
    "                print(\"player 1 has won\")\n",
    "                game_on = False\n",
    "            else:\n",
    "                if full_board_check(the_board):\n",
    "                    display_board(the_board)\n",
    "                    print(\"Draw game\")\n",
    "                    game_on=False\n",
    "                else:\n",
    "                    turn = \"player 2\"\n",
    "\n",
    "\n",
    "        else:\n",
    "\n",
    "            display_board(the_board)\n",
    "\n",
    "            position = player_selection(the_board)\n",
    "            placing_of_marker(the_board,player2_marker,position)\n",
    "\n",
    "            if win_condition(the_board,player2_marker):\n",
    "                display_board(the_board)\n",
    "                print(\"player 2 has won\")\n",
    "                game_on = False\n",
    "            else:\n",
    "                if full_board_check(the_board):\n",
    "                    display_board(the_board)\n",
    "                    print(\"Draw game\")\n",
    "                    game_on=False\n",
    "                else:\n",
    "                    turn = \"player 1\"\n",
    "                    \n",
    "\n",
    "    if not regame():\n",
    "        break\n"
   ]
  }
 ],
 "metadata": {
  "kernelspec": {
   "display_name": "Python 3.9.13 64-bit (microsoft store)",
   "language": "python",
   "name": "python3"
  },
  "language_info": {
   "codemirror_mode": {
    "name": "ipython",
    "version": 3
   },
   "file_extension": ".py",
   "mimetype": "text/x-python",
   "name": "python",
   "nbconvert_exporter": "python",
   "pygments_lexer": "ipython3",
   "version": "3.9.13"
  },
  "orig_nbformat": 4,
  "vscode": {
   "interpreter": {
    "hash": "f3dfa0a57d859e1b89ad1d0a1162cd906f10aa5d8563b833c6338b26169ea5fc"
   }
  }
 },
 "nbformat": 4,
 "nbformat_minor": 2
}
